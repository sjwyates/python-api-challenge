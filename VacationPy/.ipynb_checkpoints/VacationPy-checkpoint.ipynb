{
 "cells": [
  {
   "cell_type": "code",
   "execution_count": 66,
   "metadata": {},
   "outputs": [],
   "source": [
    "import pandas as pd\n",
    "import matplotlib.pyplot as plt\n",
    "import numpy as np\n",
    "import requests\n",
    "import gmaps\n",
    "import os\n",
    "from pprint import pprint\n",
    "\n",
    "from config import gkey"
   ]
  },
  {
   "cell_type": "code",
   "execution_count": 98,
   "metadata": {},
   "outputs": [],
   "source": [
    "cities_df = pd.read_csv('resources/city_results.csv')\n",
    "all_cities_df = pd.read_csv('resources/city_results.csv')"
   ]
  },
  {
   "cell_type": "code",
   "execution_count": 62,
   "metadata": {},
   "outputs": [],
   "source": [
    "cities_df = cities_df.loc[(cities_df['Temperature (F)'] >= 70) \\\n",
    "                          & (cities_df['Temperature (F)'] <= 80) \\\n",
    "                          & (cities_df['Wind Speed (mph)'] <= 80) \\\n",
    "                          & (cities_df['Cloudiness (%)'] == 0)]"
   ]
  },
  {
   "cell_type": "code",
   "execution_count": null,
   "metadata": {
    "scrolled": true
   },
   "outputs": [],
   "source": [
    "cities_df['Hotel Lat'] = \"\"\n",
    "cities_df['Hotel Lng'] = \"\"\n",
    "cities_df['Hotel Name'] = \"\"\n",
    "cities_df = cities_df.reset_index(drop=True)"
   ]
  },
  {
   "cell_type": "code",
   "execution_count": 72,
   "metadata": {},
   "outputs": [],
   "source": [
    "def get_hotel_from_latlng(lat, lng):\n",
    "    params = {\n",
    "        \"location\": f\"{lat},{lng}\",\n",
    "        \"rankby\": \"distance\",\n",
    "        \"keyword\": \"hotel\",\n",
    "        \"types\": \"lodging\",\n",
    "        \"key\": gkey\n",
    "    }\n",
    "    url = \"https://maps.googleapis.com/maps/api/place/nearbysearch/json\"\n",
    "    return requests.get(url, params=params)"
   ]
  },
  {
   "cell_type": "code",
   "execution_count": 80,
   "metadata": {},
   "outputs": [],
   "source": [
    "for index, row in cities_df.iterrows():\n",
    "    res = get_hotel_from_latlng(row['Latitude'],row['Longitude']).json()\n",
    "    try:\n",
    "        hotel = res[\"results\"][0]\n",
    "        cities_df.loc[index, 'Hotel Name'] = hotel[\"name\"]\n",
    "        cities_df.loc[index, 'Hotel Lat'] = hotel[\"geometry\"][\"location\"][\"lat\"]\n",
    "        cities_df.loc[index, 'Hotel Lng'] = hotel[\"geometry\"][\"location\"][\"lng\"]\n",
    "    except (KeyError, IndexError):\n",
    "        cities_df.loc[index, 'Hotel Name'] = np.nan\n",
    "        cities_df.loc[index, 'Hotel Lat'] = np.nan\n",
    "        cities_df.loc[index, 'Hotel Lng'] = np.nan"
   ]
  },
  {
   "cell_type": "code",
   "execution_count": 85,
   "metadata": {
    "scrolled": true
   },
   "outputs": [
    {
     "data": {
      "text/html": [
       "<div>\n",
       "<style scoped>\n",
       "    .dataframe tbody tr th:only-of-type {\n",
       "        vertical-align: middle;\n",
       "    }\n",
       "\n",
       "    .dataframe tbody tr th {\n",
       "        vertical-align: top;\n",
       "    }\n",
       "\n",
       "    .dataframe thead th {\n",
       "        text-align: right;\n",
       "    }\n",
       "</style>\n",
       "<table border=\"1\" class=\"dataframe\">\n",
       "  <thead>\n",
       "    <tr style=\"text-align: right;\">\n",
       "      <th></th>\n",
       "      <th>City</th>\n",
       "      <th>Country</th>\n",
       "      <th>Latitude</th>\n",
       "      <th>Longitude</th>\n",
       "      <th>Temperature (F)</th>\n",
       "      <th>Humidity (%)</th>\n",
       "      <th>Cloudiness (%)</th>\n",
       "      <th>Wind Speed (mph)</th>\n",
       "      <th>Hotel Name</th>\n",
       "      <th>Hotel Lat</th>\n",
       "      <th>Hotel Lng</th>\n",
       "    </tr>\n",
       "  </thead>\n",
       "  <tbody>\n",
       "    <tr>\n",
       "      <th>0</th>\n",
       "      <td>Biloela</td>\n",
       "      <td>AU</td>\n",
       "      <td>-24.42</td>\n",
       "      <td>150.50</td>\n",
       "      <td>76.73</td>\n",
       "      <td>59</td>\n",
       "      <td>0</td>\n",
       "      <td>2.21</td>\n",
       "      <td>Biloela Caravan Park</td>\n",
       "      <td>-24.4084</td>\n",
       "      <td>150.496</td>\n",
       "    </tr>\n",
       "    <tr>\n",
       "      <th>1</th>\n",
       "      <td>Cabedelo</td>\n",
       "      <td>BR</td>\n",
       "      <td>-6.98</td>\n",
       "      <td>-34.83</td>\n",
       "      <td>78.80</td>\n",
       "      <td>83</td>\n",
       "      <td>0</td>\n",
       "      <td>6.93</td>\n",
       "      <td>Lua Mansa Pousada</td>\n",
       "      <td>-6.98145</td>\n",
       "      <td>-34.829</td>\n",
       "    </tr>\n",
       "    <tr>\n",
       "      <th>2</th>\n",
       "      <td>Arlit</td>\n",
       "      <td>NE</td>\n",
       "      <td>18.74</td>\n",
       "      <td>7.39</td>\n",
       "      <td>78.13</td>\n",
       "      <td>17</td>\n",
       "      <td>0</td>\n",
       "      <td>10.16</td>\n",
       "      <td>Hôtel Telwa Bungalow</td>\n",
       "      <td>18.739</td>\n",
       "      <td>7.38945</td>\n",
       "    </tr>\n",
       "    <tr>\n",
       "      <th>3</th>\n",
       "      <td>Pahrump</td>\n",
       "      <td>US</td>\n",
       "      <td>36.21</td>\n",
       "      <td>-115.98</td>\n",
       "      <td>72.63</td>\n",
       "      <td>18</td>\n",
       "      <td>0</td>\n",
       "      <td>15.01</td>\n",
       "      <td>Preferred RV Resort</td>\n",
       "      <td>36.2111</td>\n",
       "      <td>-115.982</td>\n",
       "    </tr>\n",
       "    <tr>\n",
       "      <th>4</th>\n",
       "      <td>Sambava</td>\n",
       "      <td>MG</td>\n",
       "      <td>-14.27</td>\n",
       "      <td>50.17</td>\n",
       "      <td>70.23</td>\n",
       "      <td>83</td>\n",
       "      <td>0</td>\n",
       "      <td>9.24</td>\n",
       "      <td>Hôtel Las Palmas</td>\n",
       "      <td>-14.2619</td>\n",
       "      <td>50.1653</td>\n",
       "    </tr>\n",
       "    <tr>\n",
       "      <th>5</th>\n",
       "      <td>Rambha</td>\n",
       "      <td>IN</td>\n",
       "      <td>19.52</td>\n",
       "      <td>85.10</td>\n",
       "      <td>75.63</td>\n",
       "      <td>81</td>\n",
       "      <td>0</td>\n",
       "      <td>3.96</td>\n",
       "      <td>Anwesha traders</td>\n",
       "      <td>19.5147</td>\n",
       "      <td>85.094</td>\n",
       "    </tr>\n",
       "    <tr>\n",
       "      <th>6</th>\n",
       "      <td>Erzin</td>\n",
       "      <td>TR</td>\n",
       "      <td>36.96</td>\n",
       "      <td>36.20</td>\n",
       "      <td>71.01</td>\n",
       "      <td>49</td>\n",
       "      <td>0</td>\n",
       "      <td>7.00</td>\n",
       "      <td>Artemis Otel</td>\n",
       "      <td>36.9527</td>\n",
       "      <td>36.2379</td>\n",
       "    </tr>\n",
       "    <tr>\n",
       "      <th>7</th>\n",
       "      <td>Saint-Joseph</td>\n",
       "      <td>RE</td>\n",
       "      <td>-21.37</td>\n",
       "      <td>55.62</td>\n",
       "      <td>71.60</td>\n",
       "      <td>68</td>\n",
       "      <td>0</td>\n",
       "      <td>10.29</td>\n",
       "      <td>La maison des hôtes à la Réunion- saint-joseph</td>\n",
       "      <td>-21.378</td>\n",
       "      <td>55.6182</td>\n",
       "    </tr>\n",
       "    <tr>\n",
       "      <th>8</th>\n",
       "      <td>Takhatgarh</td>\n",
       "      <td>IN</td>\n",
       "      <td>25.33</td>\n",
       "      <td>73.00</td>\n",
       "      <td>70.02</td>\n",
       "      <td>51</td>\n",
       "      <td>0</td>\n",
       "      <td>1.34</td>\n",
       "      <td>King Muthaliya Resort</td>\n",
       "      <td>25.3117</td>\n",
       "      <td>72.9862</td>\n",
       "    </tr>\n",
       "    <tr>\n",
       "      <th>9</th>\n",
       "      <td>Chandrakona</td>\n",
       "      <td>IN</td>\n",
       "      <td>22.73</td>\n",
       "      <td>87.52</td>\n",
       "      <td>72.59</td>\n",
       "      <td>62</td>\n",
       "      <td>0</td>\n",
       "      <td>3.85</td>\n",
       "      <td>SPOT ON 63175 Gitanjali Lodge &amp; Hotel</td>\n",
       "      <td>22.7309</td>\n",
       "      <td>87.3391</td>\n",
       "    </tr>\n",
       "  </tbody>\n",
       "</table>\n",
       "</div>"
      ],
      "text/plain": [
       "           City Country  Latitude  Longitude  Temperature (F)  Humidity (%)  \\\n",
       "0       Biloela      AU    -24.42     150.50            76.73            59   \n",
       "1      Cabedelo      BR     -6.98     -34.83            78.80            83   \n",
       "2         Arlit      NE     18.74       7.39            78.13            17   \n",
       "3       Pahrump      US     36.21    -115.98            72.63            18   \n",
       "4       Sambava      MG    -14.27      50.17            70.23            83   \n",
       "5        Rambha      IN     19.52      85.10            75.63            81   \n",
       "6         Erzin      TR     36.96      36.20            71.01            49   \n",
       "7  Saint-Joseph      RE    -21.37      55.62            71.60            68   \n",
       "8    Takhatgarh      IN     25.33      73.00            70.02            51   \n",
       "9   Chandrakona      IN     22.73      87.52            72.59            62   \n",
       "\n",
       "   Cloudiness (%)  Wind Speed (mph)  \\\n",
       "0               0              2.21   \n",
       "1               0              6.93   \n",
       "2               0             10.16   \n",
       "3               0             15.01   \n",
       "4               0              9.24   \n",
       "5               0              3.96   \n",
       "6               0              7.00   \n",
       "7               0             10.29   \n",
       "8               0              1.34   \n",
       "9               0              3.85   \n",
       "\n",
       "                                       Hotel Name Hotel Lat Hotel Lng  \n",
       "0                            Biloela Caravan Park  -24.4084   150.496  \n",
       "1                               Lua Mansa Pousada  -6.98145   -34.829  \n",
       "2                            Hôtel Telwa Bungalow    18.739   7.38945  \n",
       "3                             Preferred RV Resort   36.2111  -115.982  \n",
       "4                                Hôtel Las Palmas  -14.2619   50.1653  \n",
       "5                                 Anwesha traders   19.5147    85.094  \n",
       "6                                    Artemis Otel   36.9527   36.2379  \n",
       "7  La maison des hôtes à la Réunion- saint-joseph   -21.378   55.6182  \n",
       "8                           King Muthaliya Resort   25.3117   72.9862  \n",
       "9           SPOT ON 63175 Gitanjali Lodge & Hotel   22.7309   87.3391  "
      ]
     },
     "execution_count": 85,
     "metadata": {},
     "output_type": "execute_result"
    }
   ],
   "source": [
    "cities_df = cities_df.dropna().reset_index(drop=True)\n",
    "cities_df.head(10)"
   ]
  },
  {
   "cell_type": "code",
   "execution_count": 158,
   "metadata": {},
   "outputs": [],
   "source": [
    "gmaps.configure(api_key=gkey)"
   ]
  },
  {
   "cell_type": "code",
   "execution_count": 159,
   "metadata": {},
   "outputs": [],
   "source": [
    "def make_info_box(name, city, country):\n",
    "    name_dt = f\"<dt>Name</dt><dd>{name}</dd>\"\n",
    "    city_dt = f\"<dt>City</dt><dd>{city}</dd>\"\n",
    "    country_dt = f\"<dt>Country</dt><dd>{country}</dd>\"\n",
    "    return f\"<dl>{name_dt}{city_dt}{country_dt}</dl>\""
   ]
  },
  {
   "cell_type": "code",
   "execution_count": 152,
   "metadata": {},
   "outputs": [],
   "source": [
    "info_boxes = []\n",
    "for index, row in cities_df.iterrows():\n",
    "    info_boxes.append(make_info_box(row['Hotel Name'], row['City'], row['Country']))"
   ]
  },
  {
   "cell_type": "code",
   "execution_count": 160,
   "metadata": {},
   "outputs": [],
   "source": [
    "mark_layer = gmaps.marker_layer(cities_df[['Hotel Lat', 'Hotel Lng']], info_box_content=info_boxes)"
   ]
  },
  {
   "cell_type": "code",
   "execution_count": 177,
   "metadata": {},
   "outputs": [],
   "source": [
    "hum_layer = gmaps.heatmap_layer(all_cities_df[['Latitude', 'Longitude']], weights=all_cities_df['Humidity (%)'])\n",
    "hum_layer.max_intensity = 100\n",
    "hum_layer.point_radius = 10"
   ]
  },
  {
   "cell_type": "code",
   "execution_count": 178,
   "metadata": {},
   "outputs": [
    {
     "data": {
      "application/vnd.jupyter.widget-view+json": {
       "model_id": "1ad97de58fd24e3fa01db3e1a72b2790",
       "version_major": 2,
       "version_minor": 0
      },
      "text/plain": [
       "Figure(layout=FigureLayout(height='420px'))"
      ]
     },
     "metadata": {},
     "output_type": "display_data"
    }
   ],
   "source": [
    "vmap = gmaps.figure(center=(0,0), zoom_level=2)\n",
    "vmap.add_layer(mark_layer)\n",
    "vmap.add_layer(hum_layer)\n",
    "vmap"
   ]
  },
  {
   "cell_type": "code",
   "execution_count": null,
   "metadata": {},
   "outputs": [],
   "source": []
  }
 ],
 "metadata": {
  "kernelspec": {
   "display_name": "Python [conda env:PythonData] *",
   "language": "python",
   "name": "conda-env-PythonData-py"
  },
  "language_info": {
   "codemirror_mode": {
    "name": "ipython",
    "version": 3
   },
   "file_extension": ".py",
   "mimetype": "text/x-python",
   "name": "python",
   "nbconvert_exporter": "python",
   "pygments_lexer": "ipython3",
   "version": "3.6.10"
  }
 },
 "nbformat": 4,
 "nbformat_minor": 4
}
